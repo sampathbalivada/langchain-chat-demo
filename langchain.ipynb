{
 "cells": [
  {
   "cell_type": "markdown",
   "metadata": {},
   "source": [
    "# Langchain with OpenAI GPT Model\n",
    "\n",
    "This code uses OpenAI's API to generate a response for the user."
   ]
  },
  {
   "cell_type": "code",
   "execution_count": 2,
   "metadata": {},
   "outputs": [],
   "source": [
    "from operator import itemgetter\n",
    "from langchain.chat_models import ChatOpenAI\n",
    "from langchain.memory import ConversationBufferMemory\n",
    "from langchain.schema.runnable import RunnablePassthrough, RunnableLambda\n",
    "from langchain.prompts import ChatPromptTemplate, MessagesPlaceholder\n",
    "from dotenv import load_dotenv\n",
    "import os"
   ]
  },
  {
   "cell_type": "code",
   "execution_count": 41,
   "metadata": {},
   "outputs": [],
   "source": [
    "load_dotenv()\n",
    "\n",
    "# initialize a chat model\n",
    "chat_model = ChatOpenAI(openai_api_key=os.environ.get('OPENAI_API_KEY'))"
   ]
  },
  {
   "cell_type": "code",
   "execution_count": 42,
   "metadata": {},
   "outputs": [],
   "source": [
    "prep_prompt = \"You are an unbiased AI model with the name Drago. Your respnoses should be empathetic and should have a bit of humor and lots of honesty.\"\n",
    "human_template = \"{input}\"\n",
    "\n",
    "# create a prompt template\n",
    "prompt = ChatPromptTemplate.from_messages([\n",
    "    (\"system\", prep_prompt),\n",
    "    MessagesPlaceholder(variable_name=\"history\"),\n",
    "    (\"human\", human_template)\n",
    "])\n",
    "\n",
    "# create a buffer memory to store the conversation\n",
    "memory = ConversationBufferMemory(return_messages=True)"
   ]
  },
  {
   "cell_type": "code",
   "execution_count": null,
   "metadata": {},
   "outputs": [],
   "source": [
    "exec_chain = (\n",
    "    RunnablePassthrough.assign(\n",
    "        history=RunnableLambda(memory.load_memory_variables) | itemgetter(\"history\")\n",
    "    )\n",
    "    | prompt\n",
    "    | chat_model\n",
    ")\n",
    "\n",
    "def invoke_chat_model():\n",
    "    # Get user input\n",
    "    new_prompt = input(\"You:\")\n",
    "    if input.lower() == 'bye':\n",
    "        exit()\n",
    "    \n",
    "    # format and print user input\n",
    "    inputs = {'input': new_prompt}\n",
    "    print(\"You:\", new_prompt)\n",
    "\n",
    "    # invoke the chat model\n",
    "    response = exec_chain.invoke(inputs)\n",
    "    print(\"AI:\", response.content)\n",
    "\n",
    "    # save input and output to the memory\n",
    "    memory.save_context(inputs, {'output': response.content})\n",
    "\n",
    "while True:\n",
    "    invoke_chat_model()\n"
   ]
  }
 ],
 "metadata": {
  "kernelspec": {
   "display_name": "Python 3",
   "language": "python",
   "name": "python3"
  },
  "language_info": {
   "codemirror_mode": {
    "name": "ipython",
    "version": 3
   },
   "file_extension": ".py",
   "mimetype": "text/x-python",
   "name": "python",
   "nbconvert_exporter": "python",
   "pygments_lexer": "ipython3",
   "version": "3.9.6"
  }
 },
 "nbformat": 4,
 "nbformat_minor": 2
}
